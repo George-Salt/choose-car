{
 "cells": [
  {
   "cell_type": "code",
   "execution_count": 12,
   "id": "b2932a45",
   "metadata": {},
   "outputs": [
    {
     "name": "stdout",
     "output_type": "stream",
     "text": [
      "4\n",
      "2510\n"
     ]
    }
   ],
   "source": [
    "print(2+2)\n",
    "print(3 * (78 - 23 + 783) - 4)"
   ]
  },
  {
   "cell_type": "code",
   "execution_count": 13,
   "id": "03105dfa",
   "metadata": {},
   "outputs": [
    {
     "name": "stdout",
     "output_type": "stream",
     "text": [
      "33\n",
      "1\n",
      "8192\n",
      "True\n"
     ]
    }
   ],
   "source": [
    "print(100 // 3)\n",
    "print(100%3)\n",
    "print(2**13)\n",
    "print(10 == 10)"
   ]
  },
  {
   "cell_type": "code",
   "execution_count": 14,
   "id": "955d3044",
   "metadata": {},
   "outputs": [
    {
     "name": "stdout",
     "output_type": "stream",
     "text": [
      "G\n",
      "Ruby\n"
     ]
    }
   ],
   "source": [
    "my_name = \"George\"\n",
    "languages = [\"Python\", \"JavaScript\", \"Ruby\"]\n",
    "my_family_ages = {\"Dad\": 39, \"Me\": 14, \"Brother\": 9, \"Mom\": 39}\n",
    "just_nums = {4, 5, 2, 9, 1, 7, 3}\n",
    "\n",
    "print(my_name[0])\n",
    "print(languages[2])"
   ]
  },
  {
   "cell_type": "code",
   "execution_count": 15,
   "id": "baaf4561",
   "metadata": {},
   "outputs": [
    {
     "name": "stdout",
     "output_type": "stream",
     "text": [
      "dict_keys(['Dad', 'Me', 'Brother', 'Mom'])\n"
     ]
    }
   ],
   "source": [
    "my_name_uppered = my_name.upper()\n",
    "languages.append(\"PHP\")\n",
    "print(my_family_ages.keys())\n",
    "just_nums.add(6)"
   ]
  },
  {
   "cell_type": "code",
   "execution_count": 16,
   "id": "7d71631e",
   "metadata": {},
   "outputs": [],
   "source": [
    "cars = {\n",
    "    (\"Toyota\", \"Avensis\"): {\n",
    "        \"Цена\": 610000,\n",
    "        \"Объем двигателя\": 2.0,\n",
    "        \"Время разгона до 100 км (в секундах)\": 11.1,\n",
    "        \"Привод\": \"Передний\",\n",
    "        \"Дата выпуска\": 2003,\n",
    "        \"Страна производитель\": \"Япония\"\n",
    "    },\n",
    "    (\"Mercedes\", \"Class S\"): {\n",
    "        \"Цена\": 11730000,\n",
    "        \"Объем двигателя\": 4.0,\n",
    "        \"Время разгона до 100 км (в секундах)\": 4.9,\n",
    "        \"Привод\": \"Полный\",\n",
    "        \"Дата выпуска\": 2018,\n",
    "        \"Страна производитель\": \"Германия\"\n",
    "    },\n",
    "    (\"Audi\", \"A5\"): {\n",
    "        \"Цена\": 2220000,\n",
    "        \"Объем двигателя\": 1.8,\n",
    "        \"Время разгона до 100 км (в секундах)\": 9.3,\n",
    "        \"Привод\": \"Передний\",\n",
    "        \"Дата выпуска\": 2014,\n",
    "        \"Страна производитель\": \"Германия\"\n",
    "    },\n",
    "    (\"Suzuki\", \"Swift\"): {\n",
    "        \"Цена\": 650000,\n",
    "        \"Объем двигателя\": 1.2,\n",
    "        \"Время разгона до 100 км (в секундах)\": 13.5,\n",
    "        \"Привод\": \"Передний\",\n",
    "        \"Дата выпуска\": 2013,\n",
    "        \"Страна производитель\": \"Япония\"\n",
    "    },\n",
    "    (\"Mazda\", \"6\"): {\n",
    "        \"Цена\": 2707000,\n",
    "        \"Объем двигателя\": 2.0,\n",
    "        \"Время разгона до 100 км (в секундах)\": 10.8,\n",
    "        \"Привод\": \"Передний\",\n",
    "        \"Дата выпуска\": 2018,\n",
    "        \"Страна производитель\": \"Япония\"\n",
    "    },\n",
    "    (\"Volkswagen\", \"Polo\"): {\n",
    "        \"Цена\": 586500,\n",
    "        \"Объем двигателя\": 1.6,\n",
    "        \"Время разгона до 100 км (в секундах)\": 11.9,\n",
    "        \"Привод\": \"Передний\",\n",
    "        \"Дата выпуска\": 2010,\n",
    "        \"Страна производитель\": \"Германия\"\n",
    "    },\n",
    "    (\"ВАЗ\", \"2107\"): {\n",
    "        \"Цена\": 115000,\n",
    "        \"Объем двигателя\": 1.3,\n",
    "        \"Время разгона до 100 км (в секундах)\": 18,\n",
    "        \"Привод\": \"Задний\",\n",
    "        \"Дата выпуска\": 1982,\n",
    "        \"Страна производитель\": \"Россия\"\n",
    "    },\n",
    "    (\"Infiniti\", \"QX80\"): {\n",
    "        \"Цена\": 8690000,\n",
    "        \"Объем двигателя\": 5.6,\n",
    "        \"Время разгона до 100 км (в секундах)\": 7.5,\n",
    "        \"Привод\": \"Полный\",\n",
    "        \"Дата выпуска\": 2017,\n",
    "        \"Страна производитель\": \"Япония\"\n",
    "    },\n",
    "    (\"KIA\", \"Picanto\"): {\n",
    "        \"Цена\": 1334000,\n",
    "        \"Объем двигателя\": 1.0,\n",
    "        \"Время разгона до 100 км (в секундах)\": 14.3,\n",
    "        \"Привод\": \"Передний\",\n",
    "        \"Дата выпуска\": 2020,\n",
    "        \"Страна производитель\": \"Корея\"\n",
    "    },\n",
    "    (\"Chevrolet\", \"Impala\"): {\n",
    "        \"Цена\": 13800000,\n",
    "        \"Объем двигателя\": 3.9,\n",
    "        \"Время разгона до 100 км (в секундах)\": 14.6,\n",
    "        \"Привод\": \"Задний\",\n",
    "        \"Дата выпуска\": 1957,\n",
    "        \"Страна производитель\": \"США\"\n",
    "    }\n",
    "}"
   ]
  },
  {
   "cell_type": "code",
   "execution_count": 17,
   "id": "f7a889f0",
   "metadata": {},
   "outputs": [],
   "source": [
    "for car in cars.values():\n",
    "    car[\"В рассрочку\"] = bool()"
   ]
  },
  {
   "cell_type": "code",
   "execution_count": 18,
   "id": "9268b672",
   "metadata": {},
   "outputs": [],
   "source": [
    "def prepare_cars(dct, param, criteria):\n",
    "    needed_cars = []\n",
    "\n",
    "    for element in dct.values():\n",
    "        if element[param] == criteria:\n",
    "            needed_cars.append(list(dct.keys())[list(dct.values()).index(element)])\n",
    "\n",
    "    if needed_cars:\n",
    "        return needed_cars\n",
    "    else:\n",
    "        return \"Ничего не найдено!\""
   ]
  },
  {
   "cell_type": "code",
   "execution_count": 19,
   "id": "39b8dd56",
   "metadata": {},
   "outputs": [
    {
     "name": "stdout",
     "output_type": "stream",
     "text": [
      "[('Mercedes', 'Class S'), ('Infiniti', 'QX80')]\n"
     ]
    }
   ],
   "source": [
    "parameter = \"parameter\"\n",
    "criteria = \"criteria\"\n",
    "print(prepare_cars(cars, parameter, criteria))"
   ]
  }
 ],
 "metadata": {
  "kernelspec": {
   "display_name": "Python 3.11.0 64-bit",
   "language": "python",
   "name": "python3"
  },
  "language_info": {
   "codemirror_mode": {
    "name": "ipython",
    "version": 3
   },
   "file_extension": ".py",
   "mimetype": "text/x-python",
   "name": "python",
   "nbconvert_exporter": "python",
   "pygments_lexer": "ipython3",
   "version": "3.11.0"
  },
  "vscode": {
   "interpreter": {
    "hash": "bd69caffab9be230f8cc8d48e645bc8b36a5873ad2800ae1cca226a32c6ba729"
   }
  }
 },
 "nbformat": 4,
 "nbformat_minor": 5
}
